{
 "cells": [
  {
   "cell_type": "code",
   "execution_count": null,
   "metadata": {},
   "outputs": [
    {
     "ename": "ValueError",
     "evalue": "object too deep for desired array",
     "output_type": "error",
     "traceback": [
      "\u001b[1;31m---------------------------------------------------------------------------\u001b[0m",
      "\u001b[1;31mValueError\u001b[0m                                Traceback (most recent call last)",
      "Cell \u001b[1;32mIn[35], line 25\u001b[0m\n\u001b[0;32m     22\u001b[0m     \u001b[38;5;28;01mreturn\u001b[39;00m gaussian_filter1d(amp,sigma\u001b[38;5;241m=\u001b[39msigma)\n\u001b[0;32m     24\u001b[0m \u001b[38;5;66;03m# CSIデータの振幅（Amplitude）の取得\u001b[39;00m\n\u001b[1;32m---> 25\u001b[0m amplitude_1 \u001b[38;5;241m=\u001b[39m \u001b[43mmoving_average_filter\u001b[49m\u001b[43m(\u001b[49m\u001b[43mnp\u001b[49m\u001b[38;5;241;43m.\u001b[39;49m\u001b[43mabs\u001b[49m\u001b[43m(\u001b[49m\u001b[43mcsi_data_1\u001b[49m\u001b[43m)\u001b[49m\u001b[43m)\u001b[49m\n\u001b[0;32m     26\u001b[0m \u001b[38;5;66;03m#amplitude_2 = gauss(np.abs(csi_data_2))\u001b[39;00m\n\u001b[0;32m     27\u001b[0m amplitude_2 \u001b[38;5;241m=\u001b[39m np\u001b[38;5;241m.\u001b[39mabs(csi_data_1)\n",
      "Cell \u001b[1;32mIn[35], line 19\u001b[0m, in \u001b[0;36mmoving_average_filter\u001b[1;34m(csi_amplitude, window_size)\u001b[0m\n\u001b[0;32m     18\u001b[0m \u001b[38;5;28;01mdef\u001b[39;00m \u001b[38;5;21mmoving_average_filter\u001b[39m(csi_amplitude, window_size\u001b[38;5;241m=\u001b[39m\u001b[38;5;241m5\u001b[39m):\n\u001b[1;32m---> 19\u001b[0m     \u001b[38;5;28;01mreturn\u001b[39;00m \u001b[43mnp\u001b[49m\u001b[38;5;241;43m.\u001b[39;49m\u001b[43mconvolve\u001b[49m\u001b[43m(\u001b[49m\u001b[43mcsi_amplitude\u001b[49m\u001b[43m,\u001b[49m\u001b[43m \u001b[49m\u001b[43mnp\u001b[49m\u001b[38;5;241;43m.\u001b[39;49m\u001b[43mones\u001b[49m\u001b[43m(\u001b[49m\u001b[43mwindow_size\u001b[49m\u001b[43m)\u001b[49m\u001b[38;5;241;43m/\u001b[39;49m\u001b[43mwindow_size\u001b[49m\u001b[43m,\u001b[49m\u001b[43m \u001b[49m\u001b[43mmode\u001b[49m\u001b[38;5;241;43m=\u001b[39;49m\u001b[38;5;124;43m'\u001b[39;49m\u001b[38;5;124;43mvalid\u001b[39;49m\u001b[38;5;124;43m'\u001b[39;49m\u001b[43m)\u001b[49m\n",
      "File \u001b[1;32m~\\AppData\\Local\\Packages\\PythonSoftwareFoundation.Python.3.11_qbz5n2kfra8p0\\LocalCache\\local-packages\\Python311\\site-packages\\numpy\\core\\numeric.py:834\u001b[0m, in \u001b[0;36mconvolve\u001b[1;34m(a, v, mode)\u001b[0m\n\u001b[0;32m    832\u001b[0m \u001b[38;5;28;01mif\u001b[39;00m \u001b[38;5;28mlen\u001b[39m(v) \u001b[38;5;241m==\u001b[39m \u001b[38;5;241m0\u001b[39m:\n\u001b[0;32m    833\u001b[0m     \u001b[38;5;28;01mraise\u001b[39;00m \u001b[38;5;167;01mValueError\u001b[39;00m(\u001b[38;5;124m'\u001b[39m\u001b[38;5;124mv cannot be empty\u001b[39m\u001b[38;5;124m'\u001b[39m)\n\u001b[1;32m--> 834\u001b[0m \u001b[38;5;28;01mreturn\u001b[39;00m \u001b[43mmultiarray\u001b[49m\u001b[38;5;241;43m.\u001b[39;49m\u001b[43mcorrelate\u001b[49m\u001b[43m(\u001b[49m\u001b[43ma\u001b[49m\u001b[43m,\u001b[49m\u001b[43m \u001b[49m\u001b[43mv\u001b[49m\u001b[43m[\u001b[49m\u001b[43m:\u001b[49m\u001b[43m:\u001b[49m\u001b[38;5;241;43m-\u001b[39;49m\u001b[38;5;241;43m1\u001b[39;49m\u001b[43m]\u001b[49m\u001b[43m,\u001b[49m\u001b[43m \u001b[49m\u001b[43mmode\u001b[49m\u001b[43m)\u001b[49m\n",
      "\u001b[1;31mValueError\u001b[0m: object too deep for desired array"
     ]
    }
   ],
   "source": [
    "from nexcsi import decoder\n",
    "import numpy as np\n",
    "import matplotlib.pyplot as plt\n",
    "import seaborn as sns\n",
    "from scipy.ndimage import gaussian_filter1d\n",
    "\n",
    "# デバイス設定\n",
    "device = 'raspberrypi'\n",
    "\n",
    "# 最初のpcapファイルの読み込みと処理\n",
    "samples_1 = decoder(device).read_pcap('pcaps/010.pcap')\n",
    "csi_data_1 = decoder(device).unpack(samples_1['csi'])\n",
    "\n",
    "# 2つ目のpcapファイルの読み込みと処理\n",
    "samples_2 = decoder(device).read_pcap('pcaps/201.pcap')\n",
    "csi_data_2 = decoder(device).unpack(samples_2['csi'])\n",
    "\n",
    "def moving_average_filter(csi_amplitude, window_size=5):\n",
    "    \"\"\"\n",
    "    各サブキャリアごとに移動平均フィルタを適用する関数\n",
    "    \n",
    "    Parameters:\n",
    "        csi_amplitude (numpy.ndarray): CSI の振幅データ (num_packets, num_subcarriers)\n",
    "        window_size (int): 移動平均のウィンドウサイズ\n",
    "    \n",
    "    Returns:\n",
    "        numpy.ndarray: フィルタ適用後の CSI 振幅データ\n",
    "    \"\"\"\n",
    "    num_packets, num_subcarriers = csi_amplitude.shape  # データのサイズ取得\n",
    "    filtered_csi = np.zeros_like(csi_amplitude)  # 結果を保存する配列\n",
    "    \n",
    "    for subcarrier in range(num_subcarriers):\n",
    "        filtered_csi[:, subcarrier] = np.convolve(\n",
    "            csi_amplitude[:, subcarrier], \n",
    "            np.ones(window_size) / window_size, \n",
    "            mode='same'  # 端のデータが消えないようにする\n",
    "        )\n",
    "    \n",
    "    return filtered_csi\n",
    "def gauss(amp, sigma=1.0):\n",
    "    return gaussian_filter1d(amp,sigma=sigma)\n",
    "\n",
    "# CSIデータの振幅（Amplitude）の取得\n",
    "amplitude_1 = moving_average_filter(np.abs(csi_data_1))\n",
    "#amplitude_2 = gauss(np.abs(csi_data_2))\n",
    "amplitude_2 = np.abs(csi_data_1)\n",
    "\n",
    "# 振幅の転置を計算\n",
    "amplitude_1_T = np.transpose(amplitude_1)\n",
    "amplitude_2_T = np.transpose(amplitude_2)\n",
    "\n",
    "# vmax を3000に固定\n",
    "vmax = 1500\n",
    "\n",
    "# 振幅の転置をプロット\n",
    "plt.figure(figsize=(12, 6))\n",
    "\n",
    "# 01.pcapの振幅（転置）\n",
    "plt.subplot(1, 2, 1)\n",
    "sns.heatmap(amplitude_1_T, cmap='viridis', cbar_kws={'label': 'Amplitude'}, vmin=0, vmax=vmax)\n",
    "plt.title('Amplitude of 01.pcap (Transposed)')\n",
    "plt.xlabel('Antenna Index')\n",
    "plt.ylabel('Subcarrier Index')\n",
    "\n",
    "# 02.pcapの振幅（転置）\n",
    "plt.subplot(1, 2, 2)\n",
    "sns.heatmap(amplitude_2_T, cmap='viridis', cbar_kws={'label': 'Amplitude'}, vmin=0, vmax=vmax)\n",
    "plt.title('Amplitude of 02.pcap (Transposed)')\n",
    "plt.xlabel('Antenna Index')\n",
    "plt.ylabel('Subcarrier Index')\n",
    "\n",
    "plt.tight_layout()\n",
    "plt.show()\n"
   ]
  },
  {
   "cell_type": "code",
   "execution_count": null,
   "metadata": {},
   "outputs": [],
   "source": []
  }
 ],
 "metadata": {
  "kernelspec": {
   "display_name": "Python 3",
   "language": "python",
   "name": "python3"
  },
  "language_info": {
   "codemirror_mode": {
    "name": "ipython",
    "version": 3
   },
   "file_extension": ".py",
   "mimetype": "text/x-python",
   "name": "python",
   "nbconvert_exporter": "python",
   "pygments_lexer": "ipython3",
   "version": "3.11.9"
  }
 },
 "nbformat": 4,
 "nbformat_minor": 2
}
